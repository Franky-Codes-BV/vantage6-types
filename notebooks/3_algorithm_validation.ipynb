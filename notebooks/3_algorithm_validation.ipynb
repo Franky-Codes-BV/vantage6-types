{
 "cells": [
  {
   "cell_type": "code",
   "execution_count": 2,
   "metadata": {},
   "outputs": [],
   "source": [
    "%load_ext autoreload\n",
    "%autoreload 2\n",
    "import pandas as pd\n",
    "# TODO now all pandas objects have a metadata attribute, maybe we need to be explicit\n",
    "# for example `from vandas import VDataFrame` and then `df = VDataFrame(df)`\n",
    "import v_types"
   ]
  },
  {
   "cell_type": "code",
   "execution_count": 4,
   "metadata": {},
   "outputs": [
    {
     "name": "stderr",
     "output_type": "stream",
     "text": [
      "DEBUG - Setting type: VIntType(description='Age in years')\n",
      "DEBUG - Type set to: VIntType(description='Age in years')\n",
      "DEBUG - Setting type: VIntType(description='Average purchase amount')\n",
      "DEBUG - Type set to: VIntType(description='Average purchase amount')\n",
      "DEBUG - Setting type: VCategoricalType(description='Membership level')\n",
      "DEBUG - Type set to: VCategoricalType(description='Membership level')\n",
      "DEBUG - Setting type: VOrdinalType(description='Membership level')\n",
      "DEBUG - Type set to: VOrdinalType(description='Membership level')\n",
      "DEBUG - Setting type: VStringBinaryType()\n",
      "DEBUG - Type set to: VStringBinaryType()\n",
      "DEBUG - Setting type: VIntBinaryType()\n",
      "DEBUG - Type set to: VIntBinaryType()\n",
      "DEBUG - Setting type: VStringBinaryType()\n",
      "DEBUG - Type set to: VStringBinaryType()\n",
      "DEBUG - Setting type: VTimestampType(description='Registration date')\n",
      "DEBUG - Type set to: VTimestampType(description='Registration date')\n",
      "DEBUG - Setting type: VDurationType(description='Membership duration')\n",
      "DEBUG - Type set to: VDurationType(description='Membership duration')\n"
     ]
    },
    {
     "name": "stdout",
     "output_type": "stream",
     "text": [
      "b'{\"age\": {\"type\": \"VIntType\", \"description\": \"Age in years\", \"unit\": \"years\", \"min\": 90, \"max\": 120}, \"average_purchase\": {\"type\": \"VIntType\", \"description\": \"Average purchase amount\", \"unit\": \"USD\", \"min\": 0, \"max\": 1000}, \"preferred_color\": {\"type\": \"VCategoricalType\", \"description\": \"Membership level\", \"categories\": [\"Yellow\"], \"ordered\": false}, \"membership_level\": {\"type\": \"VOrdinalType\", \"description\": \"Membership level\", \"categories\": [\"Bronze\", \"Silver\", \"Gold\", \"Platinum\"], \"ordered\": true}, \"is_active\": {\"type\": \"VStringBinaryType\", \"description\": null, \"true_value\": \"Yes\", \"false_value\": \"No\"}, \"has_subscription\": {\"type\": \"VIntBinaryType\", \"description\": null}, \"marketing_consent\": {\"type\": \"VStringBinaryType\", \"description\": null, \"true_value\": \"Yes\", \"false_value\": \"No\"}, \"registration_date\": {\"type\": \"VTimestampType\", \"description\": \"Registration date\", \"min_date\": \"2020-01-01 00:00:00\", \"max_date\": \"2025-01-01 00:00:00\", \"tz\": \"UTC\", \"format\": null}, \"membership_duration_days\": {\"type\": \"VDurationType\", \"description\": \"Membership duration\", \"unit\": \"days\", \"min\": null, \"max\": null}}'\n",
      "{\"age\": {\"type\": \"VIntType\", \"description\": \"Age in years\", \"unit\": \"years\", \"min\": 90, \"max\": 120}, \"average_purchase\": {\"type\": \"VIntType\", \"description\": \"Average purchase amount\", \"unit\": \"USD\", \"min\": 0, \"max\": 1000}, \"preferred_color\": {\"type\": \"VCategoricalType\", \"description\": \"Membership level\", \"categories\": [\"Yellow\"], \"ordered\": false}, \"membership_level\": {\"type\": \"VOrdinalType\", \"description\": \"Membership level\", \"categories\": [\"Bronze\", \"Silver\", \"Gold\", \"Platinum\"], \"ordered\": true}, \"is_active\": {\"type\": \"VStringBinaryType\", \"description\": null, \"true_value\": \"Yes\", \"false_value\": \"No\"}, \"has_subscription\": {\"type\": \"VIntBinaryType\", \"description\": null}, \"marketing_consent\": {\"type\": \"VStringBinaryType\", \"description\": null, \"true_value\": \"Yes\", \"false_value\": \"No\"}, \"registration_date\": {\"type\": \"VTimestampType\", \"description\": \"Registration date\", \"min_date\": \"2020-01-01 00:00:00\", \"max_date\": \"2025-01-01 00:00:00\", \"tz\": \"UTC\", \"format\": null}, \"membership_duration_days\": {\"type\": \"VDurationType\", \"description\": \"Membership duration\", \"unit\": \"days\", \"min\": null, \"max\": null}}\n"
     ]
    }
   ],
   "source": [
    "df = v_types.VDataFrame.read_parquet(\"data_with_vtypes.parquet\")"
   ]
  },
  {
   "cell_type": "code",
   "execution_count": 6,
   "metadata": {},
   "outputs": [
    {
     "data": {
      "text/plain": [
       "0      69\n",
       "1      32\n",
       "2      89\n",
       "3      78\n",
       "4      38\n",
       "       ..\n",
       "995    27\n",
       "996    51\n",
       "997    72\n",
       "998    49\n",
       "999    67\n",
       "Name: age, Length: 1000, dtype: int64\n",
       "VType: VIntType(description='Age in years', unit='years', min=90, max=120)"
      ]
     },
     "execution_count": 6,
     "metadata": {},
     "output_type": "execute_result"
    }
   ],
   "source": [
    "df[\"age\"]"
   ]
  },
  {
   "cell_type": "code",
   "execution_count": 7,
   "metadata": {},
   "outputs": [
    {
     "data": {
      "text/plain": [
       "(False, ['Values below minimum (90 [years])'])"
      ]
     },
     "execution_count": 7,
     "metadata": {},
     "output_type": "execute_result"
    }
   ],
   "source": [
    "df[\"age\"].validate()"
   ]
  },
  {
   "cell_type": "code",
   "execution_count": 9,
   "metadata": {},
   "outputs": [
    {
     "data": {
      "text/plain": [
       "(False, ['Series dtype float64 does not match required dtype Int64'])"
      ]
     },
     "execution_count": 9,
     "metadata": {},
     "output_type": "execute_result"
    }
   ],
   "source": [
    "df[\"average_purchase\"].validate()"
   ]
  },
  {
   "cell_type": "code",
   "execution_count": 10,
   "metadata": {},
   "outputs": [
    {
     "data": {
      "text/plain": [
       "(False, ['Series dtype bool does not match required dtype string'])"
      ]
     },
     "execution_count": 10,
     "metadata": {},
     "output_type": "execute_result"
    }
   ],
   "source": [
    "df[\"is_active\"].validate()"
   ]
  },
  {
   "cell_type": "code",
   "execution_count": 13,
   "metadata": {},
   "outputs": [
    {
     "data": {
      "text/plain": [
       "(True, [])"
      ]
     },
     "execution_count": 13,
     "metadata": {},
     "output_type": "execute_result"
    }
   ],
   "source": [
    "df[\"marketing_consent\"].validate()"
   ]
  }
 ],
 "metadata": {
  "kernelspec": {
   "display_name": "vantage6-types",
   "language": "python",
   "name": "python3"
  },
  "language_info": {
   "codemirror_mode": {
    "name": "ipython",
    "version": 3
   },
   "file_extension": ".py",
   "mimetype": "text/x-python",
   "name": "python",
   "nbconvert_exporter": "python",
   "pygments_lexer": "ipython3",
   "version": "3.10.16"
  }
 },
 "nbformat": 4,
 "nbformat_minor": 2
}
