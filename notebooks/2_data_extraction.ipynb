{
 "cells": [
  {
   "cell_type": "markdown",
   "metadata": {},
   "source": [
    "# Data Extraction\n",
    "\n",
    "This is a simple library to add type constraints to pandas Series. There are several \n",
    "reasons why you might want to do this:\n",
    "\n",
    "- You want to ensure that the data in your Series is of a certain type.\n",
    "- You want to ensure that the data in your Series is clean and consistent.\n",
    "- You want to ensure that the data in your Series is correct and valid.\n",
    "\n",
    "In the context of vantage6, this is useful for:\n",
    "\n",
    "- Users can only select valid variables (types) when creating a task.\n",
    "- Data extraction jobs can be validated against the expected types.\n",
    "- The users has more context about the data they are working with.\n",
    "\n",
    "-----------\n",
    "\n",
    "TODO \n",
    "- [ ] Units\n",
    "- [ ] Automatic conversion of types"
   ]
  },
  {
   "cell_type": "code",
   "execution_count": 1,
   "metadata": {},
   "outputs": [],
   "source": [
    "%load_ext autoreload\n",
    "%autoreload 2\n",
    "import pandas as pd\n",
    "# TODO now all pandas objects have a metadata attribute, maybe we need to be explicit\n",
    "# for example `from vandas import VDataFrame` and then `df = VDataFrame(df)`\n",
    "import v_types"
   ]
  },
  {
   "cell_type": "code",
   "execution_count": 2,
   "metadata": {},
   "outputs": [],
   "source": [
    "df = pd.read_csv(\"data.csv\")\n",
    "df = v_types.VDataFrame(df)"
   ]
  },
  {
   "cell_type": "markdown",
   "metadata": {},
   "source": [
    "## Assigning types to variables\n",
    "By default, all series have a type of `VAbstractType`. Which is the most basic type and\n",
    "in essence does nothing."
   ]
  },
  {
   "cell_type": "code",
   "execution_count": 3,
   "metadata": {},
   "outputs": [
    {
     "data": {
      "text/plain": [
       "v_types.VDataFrame"
      ]
     },
     "execution_count": 3,
     "metadata": {},
     "output_type": "execute_result"
    }
   ],
   "source": [
    "type(df)"
   ]
  },
  {
   "cell_type": "code",
   "execution_count": 4,
   "metadata": {},
   "outputs": [
    {
     "data": {
      "text/plain": [
       "v_types.VSeries"
      ]
     },
     "execution_count": 4,
     "metadata": {},
     "output_type": "execute_result"
    }
   ],
   "source": [
    "type(df[\"age\"])"
   ]
  },
  {
   "cell_type": "code",
   "execution_count": 5,
   "metadata": {},
   "outputs": [
    {
     "data": {
      "text/plain": [
       "(True, [])"
      ]
     },
     "execution_count": 5,
     "metadata": {},
     "output_type": "execute_result"
    }
   ],
   "source": [
    "df[\"age\"].validate()"
   ]
  },
  {
   "cell_type": "code",
   "execution_count": 6,
   "metadata": {},
   "outputs": [
    {
     "data": {
      "text/plain": [
       "0      69\n",
       "1      32\n",
       "2      89\n",
       "3      78\n",
       "4      38\n",
       "       ..\n",
       "995    27\n",
       "996    51\n",
       "997    72\n",
       "998    49\n",
       "999    67\n",
       "Name: age, Length: 1000, dtype: int64\n",
       "VType: No VType assigned"
      ]
     },
     "execution_count": 6,
     "metadata": {},
     "output_type": "execute_result"
    }
   ],
   "source": [
    "df[\"age\"]"
   ]
  },
  {
   "cell_type": "markdown",
   "metadata": {},
   "source": [
    "### VAbstractType\n",
    "The `VAbstractType` type is the most basic type and does nothing. It is used to \n",
    "represent any type of data. It has the following optional parameters:\n",
    "\n",
    "- `description`: A description of the variable."
   ]
  },
  {
   "cell_type": "code",
   "execution_count": 7,
   "metadata": {},
   "outputs": [
    {
     "data": {
      "text/plain": [
       "VAbstractType(description='Age in years')"
      ]
     },
     "execution_count": 7,
     "metadata": {},
     "output_type": "execute_result"
    }
   ],
   "source": [
    "v_types.VAbstractType(description=\"Age in years\")"
   ]
  },
  {
   "cell_type": "markdown",
   "metadata": {},
   "source": [
    "### VNumericType (VIntType, VFloatType)\n",
    "The `VIntType` and `VFloatType` types are used to represent integer and float values. \n",
    "They have the following optional parameters:\n",
    "- `unit`: The unit of the integer or float values.\n",
    "- `min`: The minimum value of the integer or float values.\n",
    "- `max`: The maximum value of the integer or float values.\n",
    "- `description`: A description of the integer or float values.\n",
    "\n",
    "The `min` and `max` parameters are used to validate the values of the series. The `unit` can be used to convert the values to a different unit. and the `description` can be used to add a description to the series.\n",
    "\n"
   ]
  },
  {
   "cell_type": "code",
   "execution_count": 8,
   "metadata": {},
   "outputs": [
    {
     "name": "stdout",
     "output_type": "stream",
     "text": [
      "0      69\n",
      "1      32\n",
      "2      89\n",
      "3      78\n",
      "4      38\n",
      "       ..\n",
      "995    27\n",
      "996    51\n",
      "997    72\n",
      "998    49\n",
      "999    67\n",
      "Name: age, Length: 1000, dtype: int64\n",
      "VType: No VType assigned\n"
     ]
    }
   ],
   "source": [
    "print(df[\"age\"])"
   ]
  },
  {
   "cell_type": "code",
   "execution_count": 9,
   "metadata": {},
   "outputs": [
    {
     "name": "stderr",
     "output_type": "stream",
     "text": [
      "DEBUG - Setting type: VIntType(description='Age in years')\n",
      "DEBUG - Type set to: VIntType(description='Age in years')\n"
     ]
    },
    {
     "name": "stdout",
     "output_type": "stream",
     "text": [
      "type: VIntType(description='Age in years')\n",
      "valid: (True, [])\n",
      "0      69\n",
      "1      32\n",
      "2      89\n",
      "3      78\n",
      "4      38\n",
      "       ..\n",
      "995    27\n",
      "996    51\n",
      "997    72\n",
      "998    49\n",
      "999    67\n",
      "Name: age, Length: 1000, dtype: int64\n",
      "VType: VIntType(description='Age in years')\n"
     ]
    }
   ],
   "source": [
    "# Integer type\n",
    "df[\"age\"].v_type = v_types.VIntType(description=\"Age in years\")\n",
    "print(\"type:\", df[\"age\"]._v_type)\n",
    "print(\"valid:\", df[\"age\"].validate())\n",
    "print(df[\"age\"])\n"
   ]
  },
  {
   "cell_type": "code",
   "execution_count": 10,
   "metadata": {},
   "outputs": [
    {
     "name": "stderr",
     "output_type": "stream",
     "text": [
      "DEBUG - Setting type: VIntType(description='Age in years')\n",
      "DEBUG - Type set to: VIntType(description='Age in years')\n"
     ]
    },
    {
     "data": {
      "text/plain": [
       "VIntType(description='Age in years', unit=None, min=90, max=120)"
      ]
     },
     "execution_count": 10,
     "metadata": {},
     "output_type": "execute_result"
    }
   ],
   "source": [
    "# Ranges can be assigned to the type\n",
    "df[\"age\"].v_type = v_types.VIntType(min=90, max=120, description=\"Age in years\")\n",
    "df[\"age\"].v_type"
   ]
  },
  {
   "cell_type": "code",
   "execution_count": 11,
   "metadata": {},
   "outputs": [
    {
     "data": {
      "text/plain": [
       "(False, ['Values below minimum (90 [-])'])"
      ]
     },
     "execution_count": 11,
     "metadata": {},
     "output_type": "execute_result"
    }
   ],
   "source": [
    "# These ranges are used to validate the values of the series\n",
    "df[\"age\"].validate()"
   ]
  },
  {
   "cell_type": "code",
   "execution_count": 12,
   "metadata": {},
   "outputs": [
    {
     "name": "stderr",
     "output_type": "stream",
     "text": [
      "DEBUG - Setting type: VIntType(description='Age in years')\n",
      "DEBUG - Type set to: VIntType(description='Age in years')\n"
     ]
    },
    {
     "data": {
      "text/plain": [
       "(False, ['Values below minimum (90 [years])'])"
      ]
     },
     "execution_count": 12,
     "metadata": {},
     "output_type": "execute_result"
    }
   ],
   "source": [
    "df[\"age\"].v_type = v_types.VIntType(min=90, max=120, description=\"Age in years\", unit=\"years\")\n",
    "df[\"age\"].validate()"
   ]
  },
  {
   "cell_type": "code",
   "execution_count": 13,
   "metadata": {},
   "outputs": [
    {
     "name": "stderr",
     "output_type": "stream",
     "text": [
      "DEBUG - Setting type: VFloatType(description='Average purchase amount')\n",
      "DEBUG - Type set to: VFloatType(description='Average purchase amount')\n"
     ]
    },
    {
     "data": {
      "text/plain": [
       "(True, [])"
      ]
     },
     "execution_count": 13,
     "metadata": {},
     "output_type": "execute_result"
    }
   ],
   "source": [
    "df[\"average_purchase\"].v_type = v_types.VFloatType(min=0, max=1000, description=\"Average purchase amount\", unit=\"USD\")\n",
    "df[\"average_purchase\"].validate()"
   ]
  },
  {
   "cell_type": "markdown",
   "metadata": {},
   "source": [
    "We can consider supplying auto-converted values to the type. For example we can easily convert integers to floats. However the other way around is not trivial.\n"
   ]
  },
  {
   "cell_type": "code",
   "execution_count": 14,
   "metadata": {},
   "outputs": [
    {
     "name": "stderr",
     "output_type": "stream",
     "text": [
      "DEBUG - Setting type: VIntType(description='Average purchase amount')\n",
      "DEBUG - Type set to: VIntType(description='Average purchase amount')\n"
     ]
    },
    {
     "data": {
      "text/plain": [
       "(False, ['Series dtype float64 does not match required dtype Int64'])"
      ]
     },
     "execution_count": 14,
     "metadata": {},
     "output_type": "execute_result"
    }
   ],
   "source": [
    "# Assigning an integer type to a float series\n",
    "df[\"average_purchase\"].v_type = v_types.VIntType(min=0, max=1000, description=\"Average purchase amount\", unit=\"USD\")\n",
    "df[\"average_purchase\"].validate()"
   ]
  },
  {
   "cell_type": "markdown",
   "metadata": {},
   "source": [
    "### Logical types\n",
    "There are several logical types that can be used to represent boolean values.\n",
    "\n",
    "- `VLogicalType`: Represents boolean values.\n",
    "- `VStringBinaryType`: Represents boolean values as strings.\n",
    "- `VIntBinaryType`: Represents boolean values as integers.\n",
    "\n"
   ]
  },
  {
   "cell_type": "code",
   "execution_count": 15,
   "metadata": {},
   "outputs": [
    {
     "name": "stderr",
     "output_type": "stream",
     "text": [
      "DEBUG - Setting type: VLogicalType()\n",
      "DEBUG - Type set to: VLogicalType()\n"
     ]
    },
    {
     "data": {
      "text/plain": [
       "(True, [])"
      ]
     },
     "execution_count": 15,
     "metadata": {},
     "output_type": "execute_result"
    }
   ],
   "source": [
    "# Logical type encoded as True/False\n",
    "df[\"is_active\"].v_type = v_types.VLogicalType()\n",
    "df[\"is_active\"].validate()"
   ]
  },
  {
   "cell_type": "code",
   "execution_count": 16,
   "metadata": {},
   "outputs": [
    {
     "name": "stdout",
     "output_type": "stream",
     "text": [
      "Related to VAbstractType: True\n",
      "Related to VBinaryType: True\n"
     ]
    }
   ],
   "source": [
    "print(\"Related to VAbstractType:\", issubclass(v_types.VLogicalType, v_types.VAbstractType))\n",
    "print(\"Related to VBinaryType:\", issubclass(v_types.VLogicalType, v_types.VBinaryType))"
   ]
  },
  {
   "cell_type": "code",
   "execution_count": 17,
   "metadata": {},
   "outputs": [
    {
     "name": "stdout",
     "output_type": "stream",
     "text": [
      "`is_active` is instance of VAbstractType: True\n",
      "`is_active` is instance of VBinaryType: True\n",
      "`is_active` is instance of VLogicalType: True\n",
      "`is_active` is instance of VStringBinaryType: False\n"
     ]
    }
   ],
   "source": [
    "print(\"`is_active` is instance of VAbstractType:\", isinstance(df[\"is_active\"].v_type, v_types.VAbstractType))\n",
    "print(\"`is_active` is instance of VBinaryType:\", isinstance(df[\"is_active\"].v_type, v_types.VBinaryType))\n",
    "print(\"`is_active` is instance of VLogicalType:\", isinstance(df[\"is_active\"].v_type, v_types.VLogicalType))\n",
    "print(\"`is_active` is instance of VStringBinaryType:\", isinstance(df[\"is_active\"].v_type, v_types.VStringBinaryType))"
   ]
  },
  {
   "cell_type": "code",
   "execution_count": 18,
   "metadata": {},
   "outputs": [
    {
     "name": "stderr",
     "output_type": "stream",
     "text": [
      "DEBUG - Setting type: VStringBinaryType()\n",
      "DEBUG - Type set to: VStringBinaryType()\n"
     ]
    },
    {
     "data": {
      "text/plain": [
       "(False, ['Series dtype bool does not match required dtype string'])"
      ]
     },
     "execution_count": 18,
     "metadata": {},
     "output_type": "execute_result"
    }
   ],
   "source": [
    "# Logical type encoded as Yes/No or any other string pair\n",
    "df[\"is_active\"].v_type = v_types.VStringBinaryType()\n",
    "df[\"is_active\"].validate()"
   ]
  },
  {
   "cell_type": "code",
   "execution_count": 19,
   "metadata": {},
   "outputs": [
    {
     "name": "stderr",
     "output_type": "stream",
     "text": [
      "DEBUG - Setting type: VIntBinaryType()\n",
      "DEBUG - Type set to: VIntBinaryType()\n"
     ]
    },
    {
     "data": {
      "text/plain": [
       "(True, [])"
      ]
     },
     "execution_count": 19,
     "metadata": {},
     "output_type": "execute_result"
    }
   ],
   "source": [
    "# Logical type encoded as 0/1\n",
    "df[\"has_subscription\"].v_type = v_types.VIntBinaryType()\n",
    "df[\"has_subscription\"].validate()"
   ]
  },
  {
   "cell_type": "code",
   "execution_count": 20,
   "metadata": {},
   "outputs": [
    {
     "name": "stderr",
     "output_type": "stream",
     "text": [
      "DEBUG - Setting type: VStringBinaryType()\n",
      "DEBUG - Type set to: VStringBinaryType()\n"
     ]
    },
    {
     "data": {
      "text/plain": [
       "(True, [])"
      ]
     },
     "execution_count": 20,
     "metadata": {},
     "output_type": "execute_result"
    }
   ],
   "source": [
    "# Logical type encoded as Yes/No or any other string pair\n",
    "df[\"marketing_consent\"].v_type = v_types.VStringBinaryType()\n",
    "df[\"marketing_consent\"].validate()"
   ]
  },
  {
   "cell_type": "markdown",
   "metadata": {},
   "source": [
    "### VCategoricalType (VOrdinalType)\n",
    "The `VCategoricalType` and `VOrdinalType` types are used to represent categorical data.\n",
    "\n",
    "- `VCategoricalType`: Represents categorical data.\n",
    "- `VOrdinalType`: Represents ordinal categorical data.\n",
    "\n"
   ]
  },
  {
   "cell_type": "code",
   "execution_count": 21,
   "metadata": {},
   "outputs": [
    {
     "name": "stderr",
     "output_type": "stream",
     "text": [
      "DEBUG - Setting type: VCategoricalType(description='Membership level')\n",
      "DEBUG - Type set to: VCategoricalType(description='Membership level')\n",
      "DEBUG - Setting categories: ['Bronze', 'Platinum', 'Silver', 'Gold']\n",
      "DEBUG - Series categories: ['Bronze' 'Platinum' 'Silver' 'Gold']\n",
      "DEBUG - The data has 0 categories that are not in the series definition\n",
      "DEBUG - Converting to categorical\n"
     ]
    },
    {
     "name": "stdout",
     "output_type": "stream",
     "text": [
      "object\n",
      "object\n",
      "category\n"
     ]
    },
    {
     "data": {
      "text/plain": [
       "(True, [])"
      ]
     },
     "execution_count": 21,
     "metadata": {},
     "output_type": "execute_result"
    }
   ],
   "source": [
    "# Auto conversion from string to categorical is happing here when the apply method is called\n",
    "print(df[\"membership_level\"].dtype)\n",
    "df[\"membership_level\"].v_type = v_types.VCategoricalType(categories=['Bronze', 'Platinum', 'Silver', 'Gold'], description=\"Membership level\")\n",
    "print(df[\"membership_level\"].dtype)\n",
    "df[\"membership_level\"].apply()\n",
    "print(df[\"membership_level\"].dtype)\n",
    "df[\"membership_level\"].validate()\n"
   ]
  },
  {
   "cell_type": "code",
   "execution_count": 22,
   "metadata": {},
   "outputs": [
    {
     "name": "stderr",
     "output_type": "stream",
     "text": [
      "DEBUG - Setting type: VCategoricalType(description='Membership level')\n",
      "DEBUG - Type set to: VCategoricalType(description='Membership level')\n",
      "DEBUG - Setting categories: ['Platinum', 'Silver', 'Gold']\n",
      "DEBUG - Series categories: ['Bronze', 'Platinum', 'Silver', 'Gold']\n",
      "Categories (4, object): ['Bronze', 'Platinum', 'Silver', 'Gold']\n",
      "DEBUG - The data has 1 categories that are not in the series definition\n",
      "DEBUG - Converting to categorical\n"
     ]
    },
    {
     "name": "stdout",
     "output_type": "stream",
     "text": [
      "validation: (True, [])\n",
      "levels: [NaN, 'Platinum', 'Silver', 'Gold']\n",
      "Categories (3, object): ['Platinum', 'Silver', 'Gold']\n"
     ]
    }
   ],
   "source": [
    "# Conversion when the original data will pass but all categories that are not defined\n",
    "# will be converted to NaN\n",
    "df[\"membership_level\"].v_type = v_types.VCategoricalType(categories=['Platinum', 'Silver', 'Gold'], description=\"Membership level\")\n",
    "df[\"membership_level\"].apply()\n",
    "print(\"validation:\", df[\"membership_level\"].validate())\n",
    "print(\"levels:\", df[\"membership_level\"].unique())\n"
   ]
  },
  {
   "cell_type": "code",
   "execution_count": 23,
   "metadata": {},
   "outputs": [
    {
     "name": "stderr",
     "output_type": "stream",
     "text": [
      "DEBUG - Setting type: VCategoricalType(description='Membership level')\n",
      "DEBUG - Type set to: VCategoricalType(description='Membership level')\n",
      "DEBUG - Converting to categorical\n"
     ]
    },
    {
     "name": "stdout",
     "output_type": "stream",
     "text": [
      "validation: (False, ['Series dtype object does not match required dtype category'])\n",
      "validation: (True, [])\n"
     ]
    }
   ],
   "source": [
    "# In case you do not provide categories, any string is allowed.\n",
    "df[\"preferred_color\"].v_type = v_types.VCategoricalType(\n",
    "    description=\"Membership level\"\n",
    ")\n",
    "print(\"validation:\", df[\"preferred_color\"].validate())\n",
    "\n",
    "df[\"preferred_color\"].apply()\n",
    "print(\"validation:\", df[\"preferred_color\"].validate())"
   ]
  },
  {
   "cell_type": "code",
   "execution_count": 24,
   "metadata": {},
   "outputs": [
    {
     "name": "stderr",
     "output_type": "stream",
     "text": [
      "DEBUG - Setting type: VCategoricalType(description='Membership level')\n",
      "DEBUG - Type set to: VCategoricalType(description='Membership level')\n",
      "DEBUG - Setting categories: ['Yellow']\n",
      "DEBUG - Series categories: ['Green', 'Blue', 'Red', 'Black', 'Yellow']\n",
      "Categories (5, object): ['Black', 'Blue', 'Green', 'Red', 'Yellow']\n",
      "DEBUG - The data has 4 categories that are not in the series definition\n",
      "DEBUG - Converting to categorical\n"
     ]
    },
    {
     "name": "stdout",
     "output_type": "stream",
     "text": [
      "validation: (True, [])\n"
     ]
    }
   ],
   "source": [
    "# We need to be careful with the categories, as they need to be present in the data. Else\n",
    "# It will generate a column with all NaN values.\n",
    "df[\"preferred_color\"].v_type = v_types.VCategoricalType(description=\"Membership level\", categories=['Yellow'])\n",
    "df[\"preferred_color\"].apply()\n",
    "print(\"validation:\", df[\"preferred_color\"].validate())"
   ]
  },
  {
   "cell_type": "code",
   "execution_count": 25,
   "metadata": {},
   "outputs": [
    {
     "data": {
      "text/plain": [
       "[NaN, 'Yellow']\n",
       "Categories (1, object): ['Yellow']"
      ]
     },
     "execution_count": 25,
     "metadata": {},
     "output_type": "execute_result"
    }
   ],
   "source": [
    "df[\"preferred_color\"].unique()"
   ]
  },
  {
   "cell_type": "code",
   "execution_count": 26,
   "metadata": {},
   "outputs": [
    {
     "name": "stderr",
     "output_type": "stream",
     "text": [
      "DEBUG - Setting type: VOrdinalType(description='Membership level')\n",
      "DEBUG - Type set to: VOrdinalType(description='Membership level')\n"
     ]
    },
    {
     "data": {
      "text/plain": [
       "(True, [])"
      ]
     },
     "execution_count": 26,
     "metadata": {},
     "output_type": "execute_result"
    }
   ],
   "source": [
    "df[\"membership_level\"].v_type = v_types.VOrdinalType(categories=[\"Bronze\", \"Silver\", \"Gold\", \"Platinum\"], description=\"Membership level\")\n",
    "df[\"membership_level\"].validate()"
   ]
  },
  {
   "cell_type": "code",
   "execution_count": 27,
   "metadata": {},
   "outputs": [
    {
     "data": {
      "text/plain": [
       "CategoricalDtype(categories=['Platinum', 'Silver', 'Gold'], ordered=False, categories_dtype=object)"
      ]
     },
     "execution_count": 27,
     "metadata": {},
     "output_type": "execute_result"
    }
   ],
   "source": [
    "df[\"membership_level\"].dtype"
   ]
  },
  {
   "cell_type": "code",
   "execution_count": 28,
   "metadata": {},
   "outputs": [
    {
     "name": "stderr",
     "output_type": "stream",
     "text": [
      "DEBUG - Setting categories: ['Bronze', 'Silver', 'Gold', 'Platinum']\n",
      "DEBUG - Series categories: ['Platinum', 'Silver', 'Gold']\n",
      "Categories (3, object): ['Platinum', 'Silver', 'Gold']\n",
      "DEBUG - The data has 0 categories that are not in the series definition\n",
      "DEBUG - Converting to categorical\n"
     ]
    },
    {
     "data": {
      "text/plain": [
       "0           NaN\n",
       "1      Platinum\n",
       "2           NaN\n",
       "3        Silver\n",
       "4          Gold\n",
       "         ...   \n",
       "995         NaN\n",
       "996      Silver\n",
       "997         NaN\n",
       "998      Silver\n",
       "999      Silver\n",
       "Length: 1000, dtype: category\n",
       "Categories (4, object): ['Bronze' < 'Silver' < 'Gold' < 'Platinum']\n",
       "VType: VOrdinalType(description='Membership level', categories=['Bronze', 'Silver', 'Gold', 'Platinum'], ordered=True)"
      ]
     },
     "execution_count": 28,
     "metadata": {},
     "output_type": "execute_result"
    }
   ],
   "source": [
    "df[\"membership_level\"].apply()"
   ]
  },
  {
   "cell_type": "code",
   "execution_count": 29,
   "metadata": {},
   "outputs": [
    {
     "data": {
      "text/plain": [
       "CategoricalDtype(categories=['Bronze', 'Silver', 'Gold', 'Platinum'], ordered=True, categories_dtype=object)"
      ]
     },
     "execution_count": 29,
     "metadata": {},
     "output_type": "execute_result"
    }
   ],
   "source": [
    "df[\"membership_level\"].dtype"
   ]
  },
  {
   "cell_type": "markdown",
   "metadata": {},
   "source": [
    "### Timestamp and Duration types\n",
    "The `VTimestampType` and `VDurationType` types are used to represent timestamp and duration data.\n",
    "\n",
    "- `VTimestampType`: Represents timestamp data.\n",
    "- `VDurationType`: Represents duration data.\n",
    "\n"
   ]
  },
  {
   "cell_type": "code",
   "execution_count": 30,
   "metadata": {},
   "outputs": [
    {
     "data": {
      "text/html": [
       "<div>\n",
       "<style scoped>\n",
       "    .dataframe tbody tr th:only-of-type {\n",
       "        vertical-align: middle;\n",
       "    }\n",
       "\n",
       "    .dataframe tbody tr th {\n",
       "        vertical-align: top;\n",
       "    }\n",
       "\n",
       "    .dataframe thead th {\n",
       "        text-align: right;\n",
       "    }\n",
       "</style>\n",
       "<table border=\"1\" class=\"dataframe\">\n",
       "  <thead>\n",
       "    <tr style=\"text-align: right;\">\n",
       "      <th></th>\n",
       "      <th>customer_id</th>\n",
       "      <th>age</th>\n",
       "      <th>average_purchase</th>\n",
       "      <th>loyalty_score</th>\n",
       "      <th>preferred_color</th>\n",
       "      <th>membership_level</th>\n",
       "      <th>is_active</th>\n",
       "      <th>has_subscription</th>\n",
       "      <th>marketing_consent</th>\n",
       "      <th>last_feedback</th>\n",
       "      <th>registration_date</th>\n",
       "      <th>membership_duration_days</th>\n",
       "      <th>tags</th>\n",
       "    </tr>\n",
       "  </thead>\n",
       "  <tbody>\n",
       "    <tr>\n",
       "      <th>0</th>\n",
       "      <td>1</td>\n",
       "      <td>69</td>\n",
       "      <td>93.58</td>\n",
       "      <td>1.9</td>\n",
       "      <td>Green</td>\n",
       "      <td>Bronze</td>\n",
       "      <td>True</td>\n",
       "      <td>1</td>\n",
       "      <td>Yes</td>\n",
       "      <td>Customer feedback 0: Need improvement</td>\n",
       "      <td>2024-05-10 09:44:26.081044</td>\n",
       "      <td>504.3</td>\n",
       "      <td>{'interests': ['Technology', 'Food'], 'source'...</td>\n",
       "    </tr>\n",
       "    <tr>\n",
       "      <th>1</th>\n",
       "      <td>2</td>\n",
       "      <td>32</td>\n",
       "      <td>125.61</td>\n",
       "      <td>6.1</td>\n",
       "      <td>Blue</td>\n",
       "      <td>Platinum</td>\n",
       "      <td>False</td>\n",
       "      <td>0</td>\n",
       "      <td>No</td>\n",
       "      <td>Customer feedback 1: Great service!</td>\n",
       "      <td>2025-03-23 09:44:26.081059</td>\n",
       "      <td>865.6</td>\n",
       "      <td>{'interests': ['Technology', 'Fashion'], 'sour...</td>\n",
       "    </tr>\n",
       "    <tr>\n",
       "      <th>2</th>\n",
       "      <td>3</td>\n",
       "      <td>89</td>\n",
       "      <td>59.44</td>\n",
       "      <td>4.4</td>\n",
       "      <td>Red</td>\n",
       "      <td>Bronze</td>\n",
       "      <td>True</td>\n",
       "      <td>0</td>\n",
       "      <td>No</td>\n",
       "      <td>Customer feedback 2: Great service!</td>\n",
       "      <td>2025-02-28 09:44:26.081063</td>\n",
       "      <td>241.3</td>\n",
       "      <td>{'interests': ['Food', 'Sports'], 'source': np...</td>\n",
       "    </tr>\n",
       "    <tr>\n",
       "      <th>3</th>\n",
       "      <td>4</td>\n",
       "      <td>78</td>\n",
       "      <td>108.52</td>\n",
       "      <td>5.8</td>\n",
       "      <td>Black</td>\n",
       "      <td>Silver</td>\n",
       "      <td>True</td>\n",
       "      <td>0</td>\n",
       "      <td>Yes</td>\n",
       "      <td>Customer feedback 3: Excellent products</td>\n",
       "      <td>2024-01-13 09:44:26.081065</td>\n",
       "      <td>78.5</td>\n",
       "      <td>{'interests': ['Fashion', 'Fashion'], 'source'...</td>\n",
       "    </tr>\n",
       "    <tr>\n",
       "      <th>4</th>\n",
       "      <td>5</td>\n",
       "      <td>38</td>\n",
       "      <td>100.64</td>\n",
       "      <td>7.4</td>\n",
       "      <td>Yellow</td>\n",
       "      <td>Gold</td>\n",
       "      <td>True</td>\n",
       "      <td>0</td>\n",
       "      <td>Yes</td>\n",
       "      <td>Customer feedback 4: Excellent products</td>\n",
       "      <td>2024-01-08 09:44:26.081068</td>\n",
       "      <td>356.4</td>\n",
       "      <td>{'interests': ['Sports', 'Food'], 'source': np...</td>\n",
       "    </tr>\n",
       "  </tbody>\n",
       "</table>\n",
       "</div>"
      ],
      "text/plain": [
       "   customer_id  age  average_purchase  loyalty_score preferred_color  \\\n",
       "0            1   69             93.58            1.9           Green   \n",
       "1            2   32            125.61            6.1            Blue   \n",
       "2            3   89             59.44            4.4             Red   \n",
       "3            4   78            108.52            5.8           Black   \n",
       "4            5   38            100.64            7.4          Yellow   \n",
       "\n",
       "  membership_level  is_active  has_subscription marketing_consent  \\\n",
       "0           Bronze       True                 1               Yes   \n",
       "1         Platinum      False                 0                No   \n",
       "2           Bronze       True                 0                No   \n",
       "3           Silver       True                 0               Yes   \n",
       "4             Gold       True                 0               Yes   \n",
       "\n",
       "                             last_feedback           registration_date  \\\n",
       "0    Customer feedback 0: Need improvement  2024-05-10 09:44:26.081044   \n",
       "1      Customer feedback 1: Great service!  2025-03-23 09:44:26.081059   \n",
       "2      Customer feedback 2: Great service!  2025-02-28 09:44:26.081063   \n",
       "3  Customer feedback 3: Excellent products  2024-01-13 09:44:26.081065   \n",
       "4  Customer feedback 4: Excellent products  2024-01-08 09:44:26.081068   \n",
       "\n",
       "   membership_duration_days                                               tags  \n",
       "0                     504.3  {'interests': ['Technology', 'Food'], 'source'...  \n",
       "1                     865.6  {'interests': ['Technology', 'Fashion'], 'sour...  \n",
       "2                     241.3  {'interests': ['Food', 'Sports'], 'source': np...  \n",
       "3                      78.5  {'interests': ['Fashion', 'Fashion'], 'source'...  \n",
       "4                     356.4  {'interests': ['Sports', 'Food'], 'source': np...  "
      ]
     },
     "execution_count": 30,
     "metadata": {},
     "output_type": "execute_result"
    }
   ],
   "source": [
    "df.head()"
   ]
  },
  {
   "cell_type": "code",
   "execution_count": 31,
   "metadata": {},
   "outputs": [
    {
     "name": "stderr",
     "output_type": "stream",
     "text": [
      "DEBUG - Setting type: VTimestampType(description='Registration date')\n",
      "DEBUG - Type set to: VTimestampType(description='Registration date')\n"
     ]
    },
    {
     "name": "stdout",
     "output_type": "stream",
     "text": [
      "dtype: object\n",
      "validation: (False, ['Series dtype object does not match required dtype datetime64[ns, UTC]'])\n",
      "dtype: datetime64[ns]\n",
      "validation: (True, [])\n"
     ]
    }
   ],
   "source": [
    "df[\"registration_date\"].v_type = v_types.VTimestampType(min_date=pd.Timestamp(\"2020-01-01\"), max_date=pd.Timestamp(\"2025-01-01\"), description=\"Registration date\")\n",
    "print(\"dtype:\", df[\"registration_date\"].dtype)\n",
    "print(\"validation:\", df[\"registration_date\"].validate())\n",
    "df[\"registration_date\"].apply()\n",
    "print(\"dtype:\", df[\"registration_date\"].dtype)\n",
    "print(\"validation:\", df[\"registration_date\"].validate())"
   ]
  },
  {
   "cell_type": "code",
   "execution_count": 32,
   "metadata": {},
   "outputs": [
    {
     "data": {
      "text/plain": [
       "0     2024-05-10 09:44:26.081044\n",
       "1     2025-03-23 09:44:26.081059\n",
       "2     2025-02-28 09:44:26.081063\n",
       "3     2024-01-13 09:44:26.081065\n",
       "4     2024-01-08 09:44:26.081068\n",
       "                 ...            \n",
       "995   2025-02-22 09:44:26.083285\n",
       "996   2024-10-19 09:44:26.083287\n",
       "997   2022-09-25 09:44:26.083289\n",
       "998   2023-07-02 09:44:26.083291\n",
       "999   2025-03-12 09:44:26.083294\n",
       "Name: registration_date, Length: 1000, dtype: datetime64[ns]\n",
       "VType: VTimestampType(description='Registration date', min_date='2020-01-01 00:00:00', max_date='2025-01-01 00:00:00')"
      ]
     },
     "execution_count": 32,
     "metadata": {},
     "output_type": "execute_result"
    }
   ],
   "source": [
    "df[\"registration_date\"]"
   ]
  },
  {
   "cell_type": "code",
   "execution_count": 33,
   "metadata": {},
   "outputs": [
    {
     "data": {
      "text/plain": [
       "0      False\n",
       "1       True\n",
       "2       True\n",
       "3      False\n",
       "4      False\n",
       "       ...  \n",
       "995     True\n",
       "996    False\n",
       "997    False\n",
       "998    False\n",
       "999     True\n",
       "Name: registration_date, Length: 1000, dtype: bool\n",
       "VType: VTimestampType(description='Registration date', min_date='2020-01-01 00:00:00', max_date='2025-01-01 00:00:00')"
      ]
     },
     "execution_count": 33,
     "metadata": {},
     "output_type": "execute_result"
    }
   ],
   "source": [
    "df[\"registration_date\"] > pd.Timestamp(\"2025-01-01\")"
   ]
  },
  {
   "cell_type": "code",
   "execution_count": 34,
   "metadata": {},
   "outputs": [
    {
     "name": "stderr",
     "output_type": "stream",
     "text": [
      "DEBUG - Setting type: VDurationType(description='Membership duration')\n",
      "DEBUG - Type set to: VDurationType(description='Membership duration')\n",
      "DEBUG - Setting type: VDurationType(description='Membership duration')\n",
      "DEBUG - Type set to: VDurationType(description='Membership duration')\n"
     ]
    },
    {
     "name": "stdout",
     "output_type": "stream",
     "text": [
      "validation: (True, [])\n",
      "dtype: float64\n",
      "validation: (True, [])\n",
      "dtype: Float64\n",
      "validation: (True, [])\n"
     ]
    }
   ],
   "source": [
    "df[\"membership_duration_days\"].v_type = v_types.VDurationType(unit=\"days\", description=\"Membership duration\")\n",
    "print(\"validation:\", df[\"membership_duration_days\"].validate())\n",
    "print(\"dtype:\", df[\"membership_duration_days\"].dtype)\n",
    "df[\"membership_duration_days\"].apply()\n",
    "print(\"validation:\", df[\"membership_duration_days\"].validate())\n",
    "print(\"dtype:\", df[\"membership_duration_days\"].dtype)\n",
    "df[\"membership_duration_days\"].v_type = v_types.VDurationType(unit=\"days\", description=\"Membership duration\")\n",
    "print(\"validation:\", df[\"membership_duration_days\"].validate())"
   ]
  },
  {
   "cell_type": "code",
   "execution_count": 35,
   "metadata": {},
   "outputs": [
    {
     "data": {
      "text/plain": [
       "0      504.3\n",
       "1      865.6\n",
       "2      241.3\n",
       "3       78.5\n",
       "4      356.4\n",
       "       ...  \n",
       "995     39.7\n",
       "996    839.4\n",
       "997    448.2\n",
       "998    636.7\n",
       "999    221.2\n",
       "Length: 1000, dtype: Float64\n",
       "VType: VDurationType(description='Membership duration', unit='days')"
      ]
     },
     "execution_count": 35,
     "metadata": {},
     "output_type": "execute_result"
    }
   ],
   "source": [
    "df[\"membership_duration_days\"]"
   ]
  },
  {
   "cell_type": "code",
   "execution_count": 36,
   "metadata": {},
   "outputs": [
    {
     "data": {
      "text/html": [
       "<div>\n",
       "<style scoped>\n",
       "    .dataframe tbody tr th:only-of-type {\n",
       "        vertical-align: middle;\n",
       "    }\n",
       "\n",
       "    .dataframe tbody tr th {\n",
       "        vertical-align: top;\n",
       "    }\n",
       "\n",
       "    .dataframe thead th {\n",
       "        text-align: right;\n",
       "    }\n",
       "</style>\n",
       "<table border=\"1\" class=\"dataframe\">\n",
       "  <thead>\n",
       "    <tr style=\"text-align: right;\">\n",
       "      <th></th>\n",
       "      <th>customer_id</th>\n",
       "      <th>age</th>\n",
       "      <th>average_purchase</th>\n",
       "      <th>loyalty_score</th>\n",
       "      <th>preferred_color</th>\n",
       "      <th>membership_level</th>\n",
       "      <th>is_active</th>\n",
       "      <th>has_subscription</th>\n",
       "      <th>marketing_consent</th>\n",
       "      <th>last_feedback</th>\n",
       "      <th>registration_date</th>\n",
       "      <th>membership_duration_days</th>\n",
       "      <th>tags</th>\n",
       "    </tr>\n",
       "  </thead>\n",
       "  <tbody>\n",
       "    <tr>\n",
       "      <th>0</th>\n",
       "      <td>1</td>\n",
       "      <td>69</td>\n",
       "      <td>93.58</td>\n",
       "      <td>1.9</td>\n",
       "      <td>Green</td>\n",
       "      <td>Bronze</td>\n",
       "      <td>True</td>\n",
       "      <td>1</td>\n",
       "      <td>Yes</td>\n",
       "      <td>Customer feedback 0: Need improvement</td>\n",
       "      <td>2024-05-10 09:44:26.081044</td>\n",
       "      <td>504.3</td>\n",
       "      <td>{'interests': ['Technology', 'Food'], 'source'...</td>\n",
       "    </tr>\n",
       "    <tr>\n",
       "      <th>1</th>\n",
       "      <td>2</td>\n",
       "      <td>32</td>\n",
       "      <td>125.61</td>\n",
       "      <td>6.1</td>\n",
       "      <td>Blue</td>\n",
       "      <td>Platinum</td>\n",
       "      <td>False</td>\n",
       "      <td>0</td>\n",
       "      <td>No</td>\n",
       "      <td>Customer feedback 1: Great service!</td>\n",
       "      <td>2025-03-23 09:44:26.081059</td>\n",
       "      <td>865.6</td>\n",
       "      <td>{'interests': ['Technology', 'Fashion'], 'sour...</td>\n",
       "    </tr>\n",
       "    <tr>\n",
       "      <th>2</th>\n",
       "      <td>3</td>\n",
       "      <td>89</td>\n",
       "      <td>59.44</td>\n",
       "      <td>4.4</td>\n",
       "      <td>Red</td>\n",
       "      <td>Bronze</td>\n",
       "      <td>True</td>\n",
       "      <td>0</td>\n",
       "      <td>No</td>\n",
       "      <td>Customer feedback 2: Great service!</td>\n",
       "      <td>2025-02-28 09:44:26.081063</td>\n",
       "      <td>241.3</td>\n",
       "      <td>{'interests': ['Food', 'Sports'], 'source': np...</td>\n",
       "    </tr>\n",
       "    <tr>\n",
       "      <th>3</th>\n",
       "      <td>4</td>\n",
       "      <td>78</td>\n",
       "      <td>108.52</td>\n",
       "      <td>5.8</td>\n",
       "      <td>Black</td>\n",
       "      <td>Silver</td>\n",
       "      <td>True</td>\n",
       "      <td>0</td>\n",
       "      <td>Yes</td>\n",
       "      <td>Customer feedback 3: Excellent products</td>\n",
       "      <td>2024-01-13 09:44:26.081065</td>\n",
       "      <td>78.5</td>\n",
       "      <td>{'interests': ['Fashion', 'Fashion'], 'source'...</td>\n",
       "    </tr>\n",
       "    <tr>\n",
       "      <th>4</th>\n",
       "      <td>5</td>\n",
       "      <td>38</td>\n",
       "      <td>100.64</td>\n",
       "      <td>7.4</td>\n",
       "      <td>Yellow</td>\n",
       "      <td>Gold</td>\n",
       "      <td>True</td>\n",
       "      <td>0</td>\n",
       "      <td>Yes</td>\n",
       "      <td>Customer feedback 4: Excellent products</td>\n",
       "      <td>2024-01-08 09:44:26.081068</td>\n",
       "      <td>356.4</td>\n",
       "      <td>{'interests': ['Sports', 'Food'], 'source': np...</td>\n",
       "    </tr>\n",
       "    <tr>\n",
       "      <th>...</th>\n",
       "      <td>...</td>\n",
       "      <td>...</td>\n",
       "      <td>...</td>\n",
       "      <td>...</td>\n",
       "      <td>...</td>\n",
       "      <td>...</td>\n",
       "      <td>...</td>\n",
       "      <td>...</td>\n",
       "      <td>...</td>\n",
       "      <td>...</td>\n",
       "      <td>...</td>\n",
       "      <td>...</td>\n",
       "      <td>...</td>\n",
       "    </tr>\n",
       "    <tr>\n",
       "      <th>995</th>\n",
       "      <td>996</td>\n",
       "      <td>27</td>\n",
       "      <td>104.04</td>\n",
       "      <td>5.0</td>\n",
       "      <td>Blue</td>\n",
       "      <td>Bronze</td>\n",
       "      <td>True</td>\n",
       "      <td>1</td>\n",
       "      <td>Yes</td>\n",
       "      <td>Customer feedback 995: Great service!</td>\n",
       "      <td>2025-02-22 09:44:26.083285</td>\n",
       "      <td>39.7</td>\n",
       "      <td>{'interests': ['Technology', 'Technology'], 's...</td>\n",
       "    </tr>\n",
       "    <tr>\n",
       "      <th>996</th>\n",
       "      <td>997</td>\n",
       "      <td>51</td>\n",
       "      <td>85.04</td>\n",
       "      <td>5.4</td>\n",
       "      <td>Black</td>\n",
       "      <td>Silver</td>\n",
       "      <td>False</td>\n",
       "      <td>0</td>\n",
       "      <td>Yes</td>\n",
       "      <td>Customer feedback 996: Excellent products</td>\n",
       "      <td>2024-10-19 09:44:26.083287</td>\n",
       "      <td>839.4</td>\n",
       "      <td>{'interests': ['Sports', 'Technology'], 'sourc...</td>\n",
       "    </tr>\n",
       "    <tr>\n",
       "      <th>997</th>\n",
       "      <td>998</td>\n",
       "      <td>72</td>\n",
       "      <td>141.03</td>\n",
       "      <td>1.4</td>\n",
       "      <td>Black</td>\n",
       "      <td>Bronze</td>\n",
       "      <td>False</td>\n",
       "      <td>0</td>\n",
       "      <td>Yes</td>\n",
       "      <td>Customer feedback 997: Could be better</td>\n",
       "      <td>2022-09-25 09:44:26.083289</td>\n",
       "      <td>448.2</td>\n",
       "      <td>{'interests': ['Food', 'Food'], 'source': np.s...</td>\n",
       "    </tr>\n",
       "    <tr>\n",
       "      <th>998</th>\n",
       "      <td>999</td>\n",
       "      <td>49</td>\n",
       "      <td>106.23</td>\n",
       "      <td>7.8</td>\n",
       "      <td>Green</td>\n",
       "      <td>Silver</td>\n",
       "      <td>True</td>\n",
       "      <td>0</td>\n",
       "      <td>Yes</td>\n",
       "      <td>Customer feedback 998: Need improvement</td>\n",
       "      <td>2023-07-02 09:44:26.083291</td>\n",
       "      <td>636.7</td>\n",
       "      <td>{'interests': ['Food', 'Food'], 'source': np.s...</td>\n",
       "    </tr>\n",
       "    <tr>\n",
       "      <th>999</th>\n",
       "      <td>1000</td>\n",
       "      <td>67</td>\n",
       "      <td>110.54</td>\n",
       "      <td>4.2</td>\n",
       "      <td>Yellow</td>\n",
       "      <td>Silver</td>\n",
       "      <td>False</td>\n",
       "      <td>0</td>\n",
       "      <td>No</td>\n",
       "      <td>Customer feedback 999: Excellent products</td>\n",
       "      <td>2025-03-12 09:44:26.083294</td>\n",
       "      <td>221.2</td>\n",
       "      <td>{'interests': ['Food', 'Technology'], 'source'...</td>\n",
       "    </tr>\n",
       "  </tbody>\n",
       "</table>\n",
       "<p>1000 rows × 13 columns</p>\n",
       "</div>"
      ],
      "text/plain": [
       "     customer_id  age  average_purchase  loyalty_score preferred_color  \\\n",
       "0              1   69             93.58            1.9           Green   \n",
       "1              2   32            125.61            6.1            Blue   \n",
       "2              3   89             59.44            4.4             Red   \n",
       "3              4   78            108.52            5.8           Black   \n",
       "4              5   38            100.64            7.4          Yellow   \n",
       "..           ...  ...               ...            ...             ...   \n",
       "995          996   27            104.04            5.0            Blue   \n",
       "996          997   51             85.04            5.4           Black   \n",
       "997          998   72            141.03            1.4           Black   \n",
       "998          999   49            106.23            7.8           Green   \n",
       "999         1000   67            110.54            4.2          Yellow   \n",
       "\n",
       "    membership_level  is_active  has_subscription marketing_consent  \\\n",
       "0             Bronze       True                 1               Yes   \n",
       "1           Platinum      False                 0                No   \n",
       "2             Bronze       True                 0                No   \n",
       "3             Silver       True                 0               Yes   \n",
       "4               Gold       True                 0               Yes   \n",
       "..               ...        ...               ...               ...   \n",
       "995           Bronze       True                 1               Yes   \n",
       "996           Silver      False                 0               Yes   \n",
       "997           Bronze      False                 0               Yes   \n",
       "998           Silver       True                 0               Yes   \n",
       "999           Silver      False                 0                No   \n",
       "\n",
       "                                 last_feedback           registration_date  \\\n",
       "0        Customer feedback 0: Need improvement  2024-05-10 09:44:26.081044   \n",
       "1          Customer feedback 1: Great service!  2025-03-23 09:44:26.081059   \n",
       "2          Customer feedback 2: Great service!  2025-02-28 09:44:26.081063   \n",
       "3      Customer feedback 3: Excellent products  2024-01-13 09:44:26.081065   \n",
       "4      Customer feedback 4: Excellent products  2024-01-08 09:44:26.081068   \n",
       "..                                         ...                         ...   \n",
       "995      Customer feedback 995: Great service!  2025-02-22 09:44:26.083285   \n",
       "996  Customer feedback 996: Excellent products  2024-10-19 09:44:26.083287   \n",
       "997     Customer feedback 997: Could be better  2022-09-25 09:44:26.083289   \n",
       "998    Customer feedback 998: Need improvement  2023-07-02 09:44:26.083291   \n",
       "999  Customer feedback 999: Excellent products  2025-03-12 09:44:26.083294   \n",
       "\n",
       "     membership_duration_days  \\\n",
       "0                       504.3   \n",
       "1                       865.6   \n",
       "2                       241.3   \n",
       "3                        78.5   \n",
       "4                       356.4   \n",
       "..                        ...   \n",
       "995                      39.7   \n",
       "996                     839.4   \n",
       "997                     448.2   \n",
       "998                     636.7   \n",
       "999                     221.2   \n",
       "\n",
       "                                                  tags  \n",
       "0    {'interests': ['Technology', 'Food'], 'source'...  \n",
       "1    {'interests': ['Technology', 'Fashion'], 'sour...  \n",
       "2    {'interests': ['Food', 'Sports'], 'source': np...  \n",
       "3    {'interests': ['Fashion', 'Fashion'], 'source'...  \n",
       "4    {'interests': ['Sports', 'Food'], 'source': np...  \n",
       "..                                                 ...  \n",
       "995  {'interests': ['Technology', 'Technology'], 's...  \n",
       "996  {'interests': ['Sports', 'Technology'], 'sourc...  \n",
       "997  {'interests': ['Food', 'Food'], 'source': np.s...  \n",
       "998  {'interests': ['Food', 'Food'], 'source': np.s...  \n",
       "999  {'interests': ['Food', 'Technology'], 'source'...  \n",
       "\n",
       "[1000 rows x 13 columns]"
      ]
     },
     "execution_count": 36,
     "metadata": {},
     "output_type": "execute_result"
    }
   ],
   "source": [
    "df"
   ]
  },
  {
   "cell_type": "code",
   "execution_count": 39,
   "metadata": {},
   "outputs": [
    {
     "name": "stdout",
     "output_type": "stream",
     "text": [
      "                                                                      Type\n",
      "Column                                                                    \n",
      "customer_id                                                           None\n",
      "age                                   VIntType(description='Age in years')\n",
      "average_purchase           VIntType(description='Average purchase amount')\n",
      "loyalty_score                                                         None\n",
      "preferred_color           VCategoricalType(description='Membership level')\n",
      "membership_level              VOrdinalType(description='Membership level')\n",
      "is_active                                              VStringBinaryType()\n",
      "has_subscription                                          VIntBinaryType()\n",
      "marketing_consent                                      VStringBinaryType()\n",
      "last_feedback                                                         None\n",
      "registration_date          VTimestampType(description='Registration date')\n",
      "membership_duration_days  VDurationType(description='Membership duration')\n",
      "tags                                                                  None\n"
     ]
    }
   ],
   "source": [
    "print(df.type_info())"
   ]
  },
  {
   "cell_type": "code",
   "execution_count": 38,
   "metadata": {},
   "outputs": [
    {
     "name": "stderr",
     "output_type": "stream",
     "text": [
      "DEBUG - Setting type: VIntType(description='Age in years')\n",
      "DEBUG - Type set to: VIntType(description='Age in years')\n",
      "DEBUG - Setting type: VIntType(description='Average purchase amount')\n",
      "DEBUG - Type set to: VIntType(description='Average purchase amount')\n",
      "DEBUG - Setting type: VCategoricalType(description='Membership level')\n",
      "DEBUG - Type set to: VCategoricalType(description='Membership level')\n",
      "DEBUG - Setting type: VOrdinalType(description='Membership level')\n",
      "DEBUG - Type set to: VOrdinalType(description='Membership level')\n",
      "DEBUG - Setting type: VStringBinaryType()\n",
      "DEBUG - Type set to: VStringBinaryType()\n",
      "DEBUG - Setting type: VIntBinaryType()\n",
      "DEBUG - Type set to: VIntBinaryType()\n",
      "DEBUG - Setting type: VStringBinaryType()\n",
      "DEBUG - Type set to: VStringBinaryType()\n",
      "DEBUG - Setting type: VTimestampType(description='Registration date')\n",
      "DEBUG - Type set to: VTimestampType(description='Registration date')\n",
      "DEBUG - Setting type: VDurationType(description='Membership duration')\n",
      "DEBUG - Type set to: VDurationType(description='Membership duration')\n"
     ]
    },
    {
     "name": "stdout",
     "output_type": "stream",
     "text": [
      "b'{\"age\": {\"type\": \"VIntType\", \"description\": \"Age in years\", \"unit\": \"years\", \"min\": 90, \"max\": 120}, \"average_purchase\": {\"type\": \"VIntType\", \"description\": \"Average purchase amount\", \"unit\": \"USD\", \"min\": 0, \"max\": 1000}, \"preferred_color\": {\"type\": \"VCategoricalType\", \"description\": \"Membership level\", \"categories\": [\"Yellow\"], \"ordered\": false}, \"membership_level\": {\"type\": \"VOrdinalType\", \"description\": \"Membership level\", \"categories\": [\"Bronze\", \"Silver\", \"Gold\", \"Platinum\"], \"ordered\": true}, \"is_active\": {\"type\": \"VStringBinaryType\", \"description\": null, \"true_value\": \"Yes\", \"false_value\": \"No\"}, \"has_subscription\": {\"type\": \"VIntBinaryType\", \"description\": null}, \"marketing_consent\": {\"type\": \"VStringBinaryType\", \"description\": null, \"true_value\": \"Yes\", \"false_value\": \"No\"}, \"registration_date\": {\"type\": \"VTimestampType\", \"description\": \"Registration date\", \"min_date\": \"2020-01-01 00:00:00\", \"max_date\": \"2025-01-01 00:00:00\", \"tz\": \"UTC\", \"format\": null}, \"membership_duration_days\": {\"type\": \"VDurationType\", \"description\": \"Membership duration\", \"unit\": \"days\", \"min\": null, \"max\": null}}'\n",
      "{\"age\": {\"type\": \"VIntType\", \"description\": \"Age in years\", \"unit\": \"years\", \"min\": 90, \"max\": 120}, \"average_purchase\": {\"type\": \"VIntType\", \"description\": \"Average purchase amount\", \"unit\": \"USD\", \"min\": 0, \"max\": 1000}, \"preferred_color\": {\"type\": \"VCategoricalType\", \"description\": \"Membership level\", \"categories\": [\"Yellow\"], \"ordered\": false}, \"membership_level\": {\"type\": \"VOrdinalType\", \"description\": \"Membership level\", \"categories\": [\"Bronze\", \"Silver\", \"Gold\", \"Platinum\"], \"ordered\": true}, \"is_active\": {\"type\": \"VStringBinaryType\", \"description\": null, \"true_value\": \"Yes\", \"false_value\": \"No\"}, \"has_subscription\": {\"type\": \"VIntBinaryType\", \"description\": null}, \"marketing_consent\": {\"type\": \"VStringBinaryType\", \"description\": null, \"true_value\": \"Yes\", \"false_value\": \"No\"}, \"registration_date\": {\"type\": \"VTimestampType\", \"description\": \"Registration date\", \"min_date\": \"2020-01-01 00:00:00\", \"max_date\": \"2025-01-01 00:00:00\", \"tz\": \"UTC\", \"format\": null}, \"membership_duration_days\": {\"type\": \"VDurationType\", \"description\": \"Membership duration\", \"unit\": \"days\", \"min\": null, \"max\": null}}\n",
      "<class 'v_types.VIntType'>\n",
      "{'type': 'VIntType', 'description': 'Age in years', 'unit': 'years', 'min': 90, 'max': 120}\n",
      "<class 'v_types.VIntType'>\n",
      "{'type': 'VIntType', 'description': 'Average purchase amount', 'unit': 'USD', 'min': 0, 'max': 1000}\n",
      "<class 'v_types.VCategoricalType'>\n",
      "{'type': 'VCategoricalType', 'description': 'Membership level', 'categories': ['Yellow'], 'ordered': False}\n",
      "<class 'v_types.VOrdinalType'>\n",
      "{'type': 'VOrdinalType', 'description': 'Membership level', 'categories': ['Bronze', 'Silver', 'Gold', 'Platinum'], 'ordered': True}\n",
      "<class 'v_types.VStringBinaryType'>\n",
      "{'type': 'VStringBinaryType', 'description': None, 'true_value': 'Yes', 'false_value': 'No'}\n",
      "<class 'v_types.VIntBinaryType'>\n",
      "{'type': 'VIntBinaryType', 'description': None}\n",
      "<class 'v_types.VStringBinaryType'>\n",
      "{'type': 'VStringBinaryType', 'description': None, 'true_value': 'Yes', 'false_value': 'No'}\n",
      "<class 'v_types.VTimestampType'>\n",
      "{'type': 'VTimestampType', 'description': 'Registration date', 'min_date': '2020-01-01 00:00:00', 'max_date': '2025-01-01 00:00:00', 'tz': 'UTC', 'format': None}\n",
      "<class 'v_types.VDurationType'>\n",
      "{'type': 'VDurationType', 'description': 'Membership duration', 'unit': 'days', 'min': None, 'max': None}\n"
     ]
    },
    {
     "data": {
      "text/html": [
       "<div>\n",
       "<style scoped>\n",
       "    .dataframe tbody tr th:only-of-type {\n",
       "        vertical-align: middle;\n",
       "    }\n",
       "\n",
       "    .dataframe tbody tr th {\n",
       "        vertical-align: top;\n",
       "    }\n",
       "\n",
       "    .dataframe thead th {\n",
       "        text-align: right;\n",
       "    }\n",
       "</style>\n",
       "<table border=\"1\" class=\"dataframe\">\n",
       "  <thead>\n",
       "    <tr style=\"text-align: right;\">\n",
       "      <th></th>\n",
       "      <th>Type</th>\n",
       "    </tr>\n",
       "    <tr>\n",
       "      <th>Column</th>\n",
       "      <th></th>\n",
       "    </tr>\n",
       "  </thead>\n",
       "  <tbody>\n",
       "    <tr>\n",
       "      <th>customer_id</th>\n",
       "      <td>None</td>\n",
       "    </tr>\n",
       "    <tr>\n",
       "      <th>age</th>\n",
       "      <td>VIntType(description='Age in years')</td>\n",
       "    </tr>\n",
       "    <tr>\n",
       "      <th>average_purchase</th>\n",
       "      <td>VIntType(description='Average purchase amount')</td>\n",
       "    </tr>\n",
       "    <tr>\n",
       "      <th>loyalty_score</th>\n",
       "      <td>None</td>\n",
       "    </tr>\n",
       "    <tr>\n",
       "      <th>preferred_color</th>\n",
       "      <td>VCategoricalType(description='Membership level')</td>\n",
       "    </tr>\n",
       "    <tr>\n",
       "      <th>membership_level</th>\n",
       "      <td>VOrdinalType(description='Membership level')</td>\n",
       "    </tr>\n",
       "    <tr>\n",
       "      <th>is_active</th>\n",
       "      <td>VStringBinaryType()</td>\n",
       "    </tr>\n",
       "    <tr>\n",
       "      <th>has_subscription</th>\n",
       "      <td>VIntBinaryType()</td>\n",
       "    </tr>\n",
       "    <tr>\n",
       "      <th>marketing_consent</th>\n",
       "      <td>VStringBinaryType()</td>\n",
       "    </tr>\n",
       "    <tr>\n",
       "      <th>last_feedback</th>\n",
       "      <td>None</td>\n",
       "    </tr>\n",
       "    <tr>\n",
       "      <th>registration_date</th>\n",
       "      <td>VTimestampType(description='Registration date')</td>\n",
       "    </tr>\n",
       "    <tr>\n",
       "      <th>membership_duration_days</th>\n",
       "      <td>VDurationType(description='Membership duration')</td>\n",
       "    </tr>\n",
       "    <tr>\n",
       "      <th>tags</th>\n",
       "      <td>None</td>\n",
       "    </tr>\n",
       "  </tbody>\n",
       "</table>\n",
       "</div>"
      ],
      "text/plain": [
       "                                                                      Type\n",
       "Column                                                                    \n",
       "customer_id                                                           None\n",
       "age                                   VIntType(description='Age in years')\n",
       "average_purchase           VIntType(description='Average purchase amount')\n",
       "loyalty_score                                                         None\n",
       "preferred_color           VCategoricalType(description='Membership level')\n",
       "membership_level              VOrdinalType(description='Membership level')\n",
       "is_active                                              VStringBinaryType()\n",
       "has_subscription                                          VIntBinaryType()\n",
       "marketing_consent                                      VStringBinaryType()\n",
       "last_feedback                                                         None\n",
       "registration_date          VTimestampType(description='Registration date')\n",
       "membership_duration_days  VDurationType(description='Membership duration')\n",
       "tags                                                                  None"
      ]
     },
     "execution_count": 38,
     "metadata": {},
     "output_type": "execute_result"
    }
   ],
   "source": [
    "df.to_parquet(\"data_with_vtypes.parquet\")\n",
    "df_from_parquet = v_types.VDataFrame.read_parquet(\"data_with_vtypes.parquet\")\n",
    "print(df_from_parquet.type_info())\n"
   ]
  },
  {
   "cell_type": "code",
   "execution_count": null,
   "metadata": {},
   "outputs": [],
   "source": []
  }
 ],
 "metadata": {
  "kernelspec": {
   "display_name": "vantage6-types",
   "language": "python",
   "name": "python3"
  },
  "language_info": {
   "codemirror_mode": {
    "name": "ipython",
    "version": 3
   },
   "file_extension": ".py",
   "mimetype": "text/x-python",
   "name": "python",
   "nbconvert_exporter": "python",
   "pygments_lexer": "ipython3",
   "version": "3.10.16"
  }
 },
 "nbformat": 4,
 "nbformat_minor": 2
}
